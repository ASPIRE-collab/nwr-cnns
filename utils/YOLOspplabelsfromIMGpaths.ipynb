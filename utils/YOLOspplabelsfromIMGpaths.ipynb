{
 "cells": [
  {
   "cell_type": "code",
   "execution_count": 4,
   "metadata": {},
   "outputs": [],
   "source": [
    "import os"
   ]
  },
  {
   "cell_type": "code",
   "execution_count": 5,
   "metadata": {},
   "outputs": [],
   "source": [
    "# Specify the directory containing the YOLOv5 labels\n",
    "animal_labels_dir = '/Users/rowanconverse/Library/CloudStorage/OneDrive-UniversityofNewMexico/Projects/CameraTraps/Data/Goat/test/'\n",
    "\n",
    "# Initialize an empty species mapping dictionary\n",
    "species_mapping = {}"
   ]
  },
  {
   "cell_type": "code",
   "execution_count": 6,
   "metadata": {},
   "outputs": [],
   "source": [
    "# Function to process the YOLO label file and update the class IDs\n",
    "def process_label_file(label_file):\n",
    "    with open(label_file, 'r') as f:\n",
    "        lines = f.readlines()\n",
    "\n",
    "    modified_lines = []\n",
    "\n",
    "    # Extract the species name from the label file path\n",
    "    species_name = label_file.split('/')[-3]  # Extract the second from the last folder\n",
    "\n",
    "    # Check if the species name already exists in the mapping dictionary\n",
    "    if species_name not in species_mapping:\n",
    "        # Generate a new class ID for the species and add it to the mapping dictionary\n",
    "        new_class_id = len(species_mapping)\n",
    "        species_mapping[species_name] = new_class_id\n",
    "    else:\n",
    "        # Retrieve the existing class ID for the species from the mapping dictionary\n",
    "        new_class_id = species_mapping[species_name]\n",
    "\n",
    "    # Loop through each line in the label file\n",
    "    for line in lines:\n",
    "        class_id, x_center, y_center, width, height = map(float, line.split())\n",
    "\n",
    "        # Modify the line with the updated class ID\n",
    "        modified_line = f\"{int(new_class_id)} {x_center} {y_center} {width} {height}\"\n",
    "        modified_lines.append(modified_line)\n",
    "\n",
    "    # Write the modified lines back to the label file\n",
    "    with open(label_file, 'w') as f:\n",
    "        f.write('\\n'.join(modified_lines))\n",
    "\n",
    "\n",
    "# Loop through each subdirectory in the \"animal\" labels directory\n",
    "for root, dirs, files in os.walk(animal_labels_dir):\n",
    "    for file in files:\n",
    "        if file.endswith('.txt'):\n",
    "            label_file = os.path.join(root, file)\n",
    "            process_label_file(label_file)\n",
    "\n",
    "# Save the species mapping to a .txt file\n",
    "species_mapping_file = 'classes.txt'\n",
    "with open(animal_labels_dir+species_mapping_file, 'w') as f:\n",
    "    for species_name, class_id in species_mapping.items():\n",
    "        f.write(f\"{species_name}: {class_id}\\n\")"
   ]
  }
 ],
 "metadata": {
  "kernelspec": {
   "display_name": "Python 3",
   "language": "python",
   "name": "python3"
  },
  "language_info": {
   "codemirror_mode": {
    "name": "ipython",
    "version": 3
   },
   "file_extension": ".py",
   "mimetype": "text/x-python",
   "name": "python",
   "nbconvert_exporter": "python",
   "pygments_lexer": "ipython3",
   "version": "3.10.11"
  },
  "orig_nbformat": 4
 },
 "nbformat": 4,
 "nbformat_minor": 2
}
